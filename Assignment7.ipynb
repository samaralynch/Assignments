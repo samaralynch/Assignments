{
 "cells": [
  {
   "cell_type": "code",
   "execution_count": 9,
   "metadata": {},
   "outputs": [
    {
     "name": "stdout",
     "output_type": "stream",
     "text": [
      "numeric grade  77\n",
      "C\n"
     ]
    }
   ],
   "source": [
    "# Output a letter grade when a user inputs a numeric grade\n",
    "Grade = int(input(\"numeric grade  \"))\n",
    "if 90 <= Grade <= 100:\n",
    "    print('A')\n",
    "elif 80 <= Grade <= 89:\n",
    "    print('B')\n",
    "elif 70 <= Grade <= 79:\n",
    "    print('C')\n",
    "elif 60 <= Grade <= 69:\n",
    "    print('D')\n",
    "elif 0 <= Grade <= 59:\n",
    "    print('F')"
   ]
  },
  {
   "cell_type": "code",
   "execution_count": 7,
   "metadata": {},
   "outputs": [
    {
     "data": {
      "text/plain": [
       "[9, 3, 5, 7]"
      ]
     },
     "execution_count": 7,
     "metadata": {},
     "output_type": "execute_result"
    }
   ],
   "source": [
    "# for two given lists, construct a new list that contains common elements\n",
    "list1 = [1, 2, 3, 4, 5, 6, 7, 8, 9, 10]\n",
    "list2 = [3, 5, 7, 9, 11]\n",
    "list(set(list1).intersection(list2))"
   ]
  },
  {
   "cell_type": "code",
   "execution_count": 14,
   "metadata": {},
   "outputs": [
    {
     "name": "stdout",
     "output_type": "stream",
     "text": [
      "Parlindrome\n"
     ]
    }
   ],
   "source": [
    "# check if string is parlindrome\n",
    "my_str = 'racecar'\n",
    "rev_str = ''.join(reversed(my_str))\n",
    "if (my_str) == (rev_str):\n",
    "    print(\"Parlindrome\")\n",
    "else:\n",
    "    print(\"Not parlindrome\")"
   ]
  },
  {
   "cell_type": "code",
   "execution_count": 17,
   "metadata": {},
   "outputs": [
    {
     "name": "stdout",
     "output_type": "stream",
     "text": [
      "200,202,204,206,208,220,222,224,226,228,240,242,244,246,248,260,262,264,266,268,280,282,284,286,288,400\n"
     ]
    }
   ],
   "source": [
    "# print numbers between and including 100 to 400. All three digits of numbers must be even\n",
    "items = []\n",
    "for i in range(100, 401):\n",
    "    s = str(i)\n",
    "    if (int(s[0])%2==0) and (int(s[1])%2==0) and (int(s[2])%2==0):\n",
    "        items.append(s)\n",
    "print( \",\".join(items))"
   ]
  },
  {
   "cell_type": "code",
   "execution_count": 21,
   "metadata": {},
   "outputs": [
    {
     "name": "stdout",
     "output_type": "stream",
     "text": [
      "{'L': 1, 'A': 3, 'D': 1, 'Y': 1, 'G': 2}\n"
     ]
    }
   ],
   "source": [
    "# function to count distinct characters in a string. \n",
    "def character_count(input_str):\n",
    "    result = {}\n",
    "    for s in input_str:\n",
    "        try:\n",
    "            result[s]+=1\n",
    "        except:\n",
    "            result[s] = 1\n",
    "\n",
    "    return result\n",
    "\n",
    "print(character_count('LADYGAGA'))"
   ]
  },
  {
   "cell_type": "code",
   "execution_count": null,
   "metadata": {},
   "outputs": [],
   "source": []
  }
 ],
 "metadata": {
  "kernelspec": {
   "display_name": "Python 3",
   "language": "python",
   "name": "python3"
  },
  "language_info": {
   "codemirror_mode": {
    "name": "ipython",
    "version": 3
   },
   "file_extension": ".py",
   "mimetype": "text/x-python",
   "name": "python",
   "nbconvert_exporter": "python",
   "pygments_lexer": "ipython3",
   "version": "3.7.1"
  }
 },
 "nbformat": 4,
 "nbformat_minor": 2
}
